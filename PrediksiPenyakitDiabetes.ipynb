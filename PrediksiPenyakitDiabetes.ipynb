{
 "cells": [
  {
   "cell_type": "markdown",
   "metadata": {},
   "source": [
    "# Import Libraries"
   ]
  },
  {
   "cell_type": "code",
   "execution_count": 26,
   "metadata": {},
   "outputs": [],
   "source": [
    "import pandas as pd \n",
    "import numpy as np\n",
    "import matplotlib.pyplot as plt\n",
    "import seaborn as sns\n",
    "\n",
    "import warnings\n",
    "warnings.filterwarnings('ignore')"
   ]
  },
  {
   "cell_type": "markdown",
   "metadata": {},
   "source": [
    "# Load Dataset"
   ]
  },
  {
   "cell_type": "code",
   "execution_count": 28,
   "metadata": {},
   "outputs": [
    {
     "data": {
      "text/html": [
       "<div>\n",
       "<style scoped>\n",
       "    .dataframe tbody tr th:only-of-type {\n",
       "        vertical-align: middle;\n",
       "    }\n",
       "\n",
       "    .dataframe tbody tr th {\n",
       "        vertical-align: top;\n",
       "    }\n",
       "\n",
       "    .dataframe thead th {\n",
       "        text-align: right;\n",
       "    }\n",
       "</style>\n",
       "<table border=\"1\" class=\"dataframe\">\n",
       "  <thead>\n",
       "    <tr style=\"text-align: right;\">\n",
       "      <th></th>\n",
       "      <th>Pregnancies</th>\n",
       "      <th>Glucose</th>\n",
       "      <th>BloodPressure</th>\n",
       "      <th>SkinThickness</th>\n",
       "      <th>Insulin</th>\n",
       "      <th>BMI</th>\n",
       "      <th>DiabetesPedigreeFunction</th>\n",
       "      <th>Age</th>\n",
       "      <th>Outcome</th>\n",
       "    </tr>\n",
       "  </thead>\n",
       "  <tbody>\n",
       "    <tr>\n",
       "      <th>0</th>\n",
       "      <td>6</td>\n",
       "      <td>148</td>\n",
       "      <td>72</td>\n",
       "      <td>35</td>\n",
       "      <td>0</td>\n",
       "      <td>33.6</td>\n",
       "      <td>0.627</td>\n",
       "      <td>50</td>\n",
       "      <td>1</td>\n",
       "    </tr>\n",
       "    <tr>\n",
       "      <th>1</th>\n",
       "      <td>1</td>\n",
       "      <td>85</td>\n",
       "      <td>66</td>\n",
       "      <td>29</td>\n",
       "      <td>0</td>\n",
       "      <td>26.6</td>\n",
       "      <td>0.351</td>\n",
       "      <td>31</td>\n",
       "      <td>0</td>\n",
       "    </tr>\n",
       "    <tr>\n",
       "      <th>2</th>\n",
       "      <td>8</td>\n",
       "      <td>183</td>\n",
       "      <td>64</td>\n",
       "      <td>0</td>\n",
       "      <td>0</td>\n",
       "      <td>23.3</td>\n",
       "      <td>0.672</td>\n",
       "      <td>32</td>\n",
       "      <td>1</td>\n",
       "    </tr>\n",
       "    <tr>\n",
       "      <th>3</th>\n",
       "      <td>1</td>\n",
       "      <td>89</td>\n",
       "      <td>66</td>\n",
       "      <td>23</td>\n",
       "      <td>94</td>\n",
       "      <td>28.1</td>\n",
       "      <td>0.167</td>\n",
       "      <td>21</td>\n",
       "      <td>0</td>\n",
       "    </tr>\n",
       "    <tr>\n",
       "      <th>4</th>\n",
       "      <td>0</td>\n",
       "      <td>137</td>\n",
       "      <td>40</td>\n",
       "      <td>35</td>\n",
       "      <td>168</td>\n",
       "      <td>43.1</td>\n",
       "      <td>2.288</td>\n",
       "      <td>33</td>\n",
       "      <td>1</td>\n",
       "    </tr>\n",
       "  </tbody>\n",
       "</table>\n",
       "</div>"
      ],
      "text/plain": [
       "   Pregnancies  Glucose  BloodPressure  SkinThickness  Insulin   BMI  \\\n",
       "0            6      148             72             35        0  33.6   \n",
       "1            1       85             66             29        0  26.6   \n",
       "2            8      183             64              0        0  23.3   \n",
       "3            1       89             66             23       94  28.1   \n",
       "4            0      137             40             35      168  43.1   \n",
       "\n",
       "   DiabetesPedigreeFunction  Age  Outcome  \n",
       "0                     0.627   50        1  \n",
       "1                     0.351   31        0  \n",
       "2                     0.672   32        1  \n",
       "3                     0.167   21        0  \n",
       "4                     2.288   33        1  "
      ]
     },
     "execution_count": 28,
     "metadata": {},
     "output_type": "execute_result"
    }
   ],
   "source": [
    "dataset = pd.read_csv('Dataset/diabetes.csv')\n",
    "dataset.head()"
   ]
  },
  {
   "cell_type": "markdown",
   "metadata": {},
   "source": [
    "# Load Dataset Latih"
   ]
  },
  {
   "cell_type": "code",
   "execution_count": 14,
   "metadata": {},
   "outputs": [
    {
     "data": {
      "text/html": [
       "<div>\n",
       "<style scoped>\n",
       "    .dataframe tbody tr th:only-of-type {\n",
       "        vertical-align: middle;\n",
       "    }\n",
       "\n",
       "    .dataframe tbody tr th {\n",
       "        vertical-align: top;\n",
       "    }\n",
       "\n",
       "    .dataframe thead th {\n",
       "        text-align: right;\n",
       "    }\n",
       "</style>\n",
       "<table border=\"1\" class=\"dataframe\">\n",
       "  <thead>\n",
       "    <tr style=\"text-align: right;\">\n",
       "      <th></th>\n",
       "      <th>Pregnancies</th>\n",
       "      <th>Glucose</th>\n",
       "      <th>BloodPressure</th>\n",
       "      <th>SkinThickness</th>\n",
       "      <th>Insulin</th>\n",
       "      <th>BMI</th>\n",
       "      <th>DiabetesPedigreeFunction</th>\n",
       "      <th>Age</th>\n",
       "      <th>Outcome</th>\n",
       "    </tr>\n",
       "  </thead>\n",
       "  <tbody>\n",
       "    <tr>\n",
       "      <th>0</th>\n",
       "      <td>8</td>\n",
       "      <td>188</td>\n",
       "      <td>78</td>\n",
       "      <td>0</td>\n",
       "      <td>0</td>\n",
       "      <td>47.9</td>\n",
       "      <td>0.137</td>\n",
       "      <td>43</td>\n",
       "      <td>1</td>\n",
       "    </tr>\n",
       "    <tr>\n",
       "      <th>1</th>\n",
       "      <td>7</td>\n",
       "      <td>152</td>\n",
       "      <td>88</td>\n",
       "      <td>44</td>\n",
       "      <td>0</td>\n",
       "      <td>50.0</td>\n",
       "      <td>0.337</td>\n",
       "      <td>36</td>\n",
       "      <td>1</td>\n",
       "    </tr>\n",
       "    <tr>\n",
       "      <th>2</th>\n",
       "      <td>2</td>\n",
       "      <td>99</td>\n",
       "      <td>52</td>\n",
       "      <td>15</td>\n",
       "      <td>94</td>\n",
       "      <td>24.6</td>\n",
       "      <td>0.637</td>\n",
       "      <td>21</td>\n",
       "      <td>0</td>\n",
       "    </tr>\n",
       "    <tr>\n",
       "      <th>3</th>\n",
       "      <td>1</td>\n",
       "      <td>109</td>\n",
       "      <td>56</td>\n",
       "      <td>21</td>\n",
       "      <td>135</td>\n",
       "      <td>25.2</td>\n",
       "      <td>0.833</td>\n",
       "      <td>23</td>\n",
       "      <td>0</td>\n",
       "    </tr>\n",
       "    <tr>\n",
       "      <th>4</th>\n",
       "      <td>2</td>\n",
       "      <td>88</td>\n",
       "      <td>74</td>\n",
       "      <td>19</td>\n",
       "      <td>53</td>\n",
       "      <td>29.0</td>\n",
       "      <td>0.229</td>\n",
       "      <td>22</td>\n",
       "      <td>0</td>\n",
       "    </tr>\n",
       "    <tr>\n",
       "      <th>...</th>\n",
       "      <td>...</td>\n",
       "      <td>...</td>\n",
       "      <td>...</td>\n",
       "      <td>...</td>\n",
       "      <td>...</td>\n",
       "      <td>...</td>\n",
       "      <td>...</td>\n",
       "      <td>...</td>\n",
       "      <td>...</td>\n",
       "    </tr>\n",
       "    <tr>\n",
       "      <th>609</th>\n",
       "      <td>10</td>\n",
       "      <td>101</td>\n",
       "      <td>76</td>\n",
       "      <td>48</td>\n",
       "      <td>180</td>\n",
       "      <td>32.9</td>\n",
       "      <td>0.171</td>\n",
       "      <td>63</td>\n",
       "      <td>0</td>\n",
       "    </tr>\n",
       "    <tr>\n",
       "      <th>610</th>\n",
       "      <td>2</td>\n",
       "      <td>122</td>\n",
       "      <td>70</td>\n",
       "      <td>27</td>\n",
       "      <td>0</td>\n",
       "      <td>36.8</td>\n",
       "      <td>0.340</td>\n",
       "      <td>27</td>\n",
       "      <td>0</td>\n",
       "    </tr>\n",
       "    <tr>\n",
       "      <th>611</th>\n",
       "      <td>5</td>\n",
       "      <td>121</td>\n",
       "      <td>72</td>\n",
       "      <td>23</td>\n",
       "      <td>112</td>\n",
       "      <td>26.2</td>\n",
       "      <td>0.245</td>\n",
       "      <td>30</td>\n",
       "      <td>0</td>\n",
       "    </tr>\n",
       "    <tr>\n",
       "      <th>612</th>\n",
       "      <td>1</td>\n",
       "      <td>126</td>\n",
       "      <td>60</td>\n",
       "      <td>0</td>\n",
       "      <td>0</td>\n",
       "      <td>30.1</td>\n",
       "      <td>0.349</td>\n",
       "      <td>47</td>\n",
       "      <td>1</td>\n",
       "    </tr>\n",
       "    <tr>\n",
       "      <th>613</th>\n",
       "      <td>1</td>\n",
       "      <td>93</td>\n",
       "      <td>70</td>\n",
       "      <td>31</td>\n",
       "      <td>0</td>\n",
       "      <td>30.4</td>\n",
       "      <td>0.315</td>\n",
       "      <td>23</td>\n",
       "      <td>0</td>\n",
       "    </tr>\n",
       "  </tbody>\n",
       "</table>\n",
       "<p>614 rows × 9 columns</p>\n",
       "</div>"
      ],
      "text/plain": [
       "     Pregnancies  Glucose  BloodPressure  SkinThickness  Insulin   BMI  \\\n",
       "0              8      188             78              0        0  47.9   \n",
       "1              7      152             88             44        0  50.0   \n",
       "2              2       99             52             15       94  24.6   \n",
       "3              1      109             56             21      135  25.2   \n",
       "4              2       88             74             19       53  29.0   \n",
       "..           ...      ...            ...            ...      ...   ...   \n",
       "609           10      101             76             48      180  32.9   \n",
       "610            2      122             70             27        0  36.8   \n",
       "611            5      121             72             23      112  26.2   \n",
       "612            1      126             60              0        0  30.1   \n",
       "613            1       93             70             31        0  30.4   \n",
       "\n",
       "     DiabetesPedigreeFunction  Age  Outcome  \n",
       "0                       0.137   43        1  \n",
       "1                       0.337   36        1  \n",
       "2                       0.637   21        0  \n",
       "3                       0.833   23        0  \n",
       "4                       0.229   22        0  \n",
       "..                        ...  ...      ...  \n",
       "609                     0.171   63        0  \n",
       "610                     0.340   27        0  \n",
       "611                     0.245   30        0  \n",
       "612                     0.349   47        1  \n",
       "613                     0.315   23        0  \n",
       "\n",
       "[614 rows x 9 columns]"
      ]
     },
     "execution_count": 14,
     "metadata": {},
     "output_type": "execute_result"
    }
   ],
   "source": [
    "df = pd.read_csv('Dataset/diabetes_latih.csv')\n",
    "df"
   ]
  },
  {
   "cell_type": "markdown",
   "metadata": {},
   "source": [
    "# Load Dataset uji"
   ]
  },
  {
   "cell_type": "code",
   "execution_count": 15,
   "metadata": {},
   "outputs": [
    {
     "data": {
      "text/html": [
       "<div>\n",
       "<style scoped>\n",
       "    .dataframe tbody tr th:only-of-type {\n",
       "        vertical-align: middle;\n",
       "    }\n",
       "\n",
       "    .dataframe tbody tr th {\n",
       "        vertical-align: top;\n",
       "    }\n",
       "\n",
       "    .dataframe thead th {\n",
       "        text-align: right;\n",
       "    }\n",
       "</style>\n",
       "<table border=\"1\" class=\"dataframe\">\n",
       "  <thead>\n",
       "    <tr style=\"text-align: right;\">\n",
       "      <th></th>\n",
       "      <th>Pregnancies</th>\n",
       "      <th>Glucose</th>\n",
       "      <th>BloodPressure</th>\n",
       "      <th>SkinThickness</th>\n",
       "      <th>Insulin</th>\n",
       "      <th>BMI</th>\n",
       "      <th>DiabetesPedigreeFunction</th>\n",
       "      <th>Age</th>\n",
       "      <th>Outcome</th>\n",
       "    </tr>\n",
       "  </thead>\n",
       "  <tbody>\n",
       "    <tr>\n",
       "      <th>0</th>\n",
       "      <td>6</td>\n",
       "      <td>148</td>\n",
       "      <td>72</td>\n",
       "      <td>35</td>\n",
       "      <td>0</td>\n",
       "      <td>33.6</td>\n",
       "      <td>0.627</td>\n",
       "      <td>50</td>\n",
       "      <td>1</td>\n",
       "    </tr>\n",
       "    <tr>\n",
       "      <th>1</th>\n",
       "      <td>1</td>\n",
       "      <td>85</td>\n",
       "      <td>66</td>\n",
       "      <td>29</td>\n",
       "      <td>0</td>\n",
       "      <td>26.6</td>\n",
       "      <td>0.351</td>\n",
       "      <td>31</td>\n",
       "      <td>0</td>\n",
       "    </tr>\n",
       "    <tr>\n",
       "      <th>2</th>\n",
       "      <td>8</td>\n",
       "      <td>183</td>\n",
       "      <td>64</td>\n",
       "      <td>0</td>\n",
       "      <td>0</td>\n",
       "      <td>23.3</td>\n",
       "      <td>0.672</td>\n",
       "      <td>32</td>\n",
       "      <td>1</td>\n",
       "    </tr>\n",
       "    <tr>\n",
       "      <th>3</th>\n",
       "      <td>1</td>\n",
       "      <td>89</td>\n",
       "      <td>66</td>\n",
       "      <td>23</td>\n",
       "      <td>94</td>\n",
       "      <td>28.1</td>\n",
       "      <td>0.167</td>\n",
       "      <td>21</td>\n",
       "      <td>0</td>\n",
       "    </tr>\n",
       "    <tr>\n",
       "      <th>4</th>\n",
       "      <td>0</td>\n",
       "      <td>137</td>\n",
       "      <td>40</td>\n",
       "      <td>35</td>\n",
       "      <td>168</td>\n",
       "      <td>43.1</td>\n",
       "      <td>2.288</td>\n",
       "      <td>33</td>\n",
       "      <td>1</td>\n",
       "    </tr>\n",
       "    <tr>\n",
       "      <th>...</th>\n",
       "      <td>...</td>\n",
       "      <td>...</td>\n",
       "      <td>...</td>\n",
       "      <td>...</td>\n",
       "      <td>...</td>\n",
       "      <td>...</td>\n",
       "      <td>...</td>\n",
       "      <td>...</td>\n",
       "      <td>...</td>\n",
       "    </tr>\n",
       "    <tr>\n",
       "      <th>149</th>\n",
       "      <td>2</td>\n",
       "      <td>90</td>\n",
       "      <td>70</td>\n",
       "      <td>17</td>\n",
       "      <td>0</td>\n",
       "      <td>27.3</td>\n",
       "      <td>0.085</td>\n",
       "      <td>22</td>\n",
       "      <td>0</td>\n",
       "    </tr>\n",
       "    <tr>\n",
       "      <th>150</th>\n",
       "      <td>1</td>\n",
       "      <td>136</td>\n",
       "      <td>74</td>\n",
       "      <td>50</td>\n",
       "      <td>204</td>\n",
       "      <td>37.4</td>\n",
       "      <td>0.399</td>\n",
       "      <td>24</td>\n",
       "      <td>0</td>\n",
       "    </tr>\n",
       "    <tr>\n",
       "      <th>151</th>\n",
       "      <td>4</td>\n",
       "      <td>114</td>\n",
       "      <td>65</td>\n",
       "      <td>0</td>\n",
       "      <td>0</td>\n",
       "      <td>21.9</td>\n",
       "      <td>0.432</td>\n",
       "      <td>37</td>\n",
       "      <td>0</td>\n",
       "    </tr>\n",
       "    <tr>\n",
       "      <th>152</th>\n",
       "      <td>9</td>\n",
       "      <td>156</td>\n",
       "      <td>86</td>\n",
       "      <td>28</td>\n",
       "      <td>155</td>\n",
       "      <td>34.3</td>\n",
       "      <td>1.189</td>\n",
       "      <td>42</td>\n",
       "      <td>1</td>\n",
       "    </tr>\n",
       "    <tr>\n",
       "      <th>153</th>\n",
       "      <td>1</td>\n",
       "      <td>153</td>\n",
       "      <td>82</td>\n",
       "      <td>42</td>\n",
       "      <td>485</td>\n",
       "      <td>40.6</td>\n",
       "      <td>0.687</td>\n",
       "      <td>23</td>\n",
       "      <td>0</td>\n",
       "    </tr>\n",
       "  </tbody>\n",
       "</table>\n",
       "<p>154 rows × 9 columns</p>\n",
       "</div>"
      ],
      "text/plain": [
       "     Pregnancies  Glucose  BloodPressure  SkinThickness  Insulin   BMI  \\\n",
       "0              6      148             72             35        0  33.6   \n",
       "1              1       85             66             29        0  26.6   \n",
       "2              8      183             64              0        0  23.3   \n",
       "3              1       89             66             23       94  28.1   \n",
       "4              0      137             40             35      168  43.1   \n",
       "..           ...      ...            ...            ...      ...   ...   \n",
       "149            2       90             70             17        0  27.3   \n",
       "150            1      136             74             50      204  37.4   \n",
       "151            4      114             65              0        0  21.9   \n",
       "152            9      156             86             28      155  34.3   \n",
       "153            1      153             82             42      485  40.6   \n",
       "\n",
       "     DiabetesPedigreeFunction  Age  Outcome  \n",
       "0                       0.627   50        1  \n",
       "1                       0.351   31        0  \n",
       "2                       0.672   32        1  \n",
       "3                       0.167   21        0  \n",
       "4                       2.288   33        1  \n",
       "..                        ...  ...      ...  \n",
       "149                     0.085   22        0  \n",
       "150                     0.399   24        0  \n",
       "151                     0.432   37        0  \n",
       "152                     1.189   42        1  \n",
       "153                     0.687   23        0  \n",
       "\n",
       "[154 rows x 9 columns]"
      ]
     },
     "execution_count": 15,
     "metadata": {},
     "output_type": "execute_result"
    }
   ],
   "source": [
    "X_train = df.values\n",
    "X_train = np.delete(X_train,8, axis=1)\n",
    "\n",
    "y_train = df['Outcome'].values\n",
    "\n",
    "df = pd.read_csv('Dataset/diabetes_uji.csv')\n",
    "\n",
    "X_test = df.values\n",
    "X_test = np.delete(X_test,8,axis=1)\n",
    "\n",
    "y_test = df['Outcome'].values\n",
    "\n",
    "df"
   ]
  },
  {
   "cell_type": "markdown",
   "metadata": {},
   "source": [
    "# Data Preprocessing"
   ]
  },
  {
   "cell_type": "code",
   "execution_count": 16,
   "metadata": {},
   "outputs": [],
   "source": [
    "from sklearn.preprocessing import MinMaxScaler\n",
    "X_train = MinMaxScaler().fit_transform(X_train)\n",
    "X_test = MinMaxScaler().fit_transform(X_test)"
   ]
  },
  {
   "cell_type": "markdown",
   "metadata": {},
   "source": [
    "# Menggunakan 2 fungsi Aktivasi (ReLU & Sigmoid)"
   ]
  },
  {
   "cell_type": "code",
   "execution_count": 17,
   "metadata": {},
   "outputs": [],
   "source": [
    "from keras.models import Sequential\n",
    "from keras.layers import Dense\n",
    "\n",
    "model = Sequential()\n",
    "\n",
    "model.add(Dense(12, activation='relu', input_shape=(8,)))\n",
    "\n",
    "pred = model.add(Dense(8, activation='relu'))\n",
    "pred = model.add(Dense(8, activation='relu'))"
   ]
  },
  {
   "cell_type": "code",
   "execution_count": 18,
   "metadata": {},
   "outputs": [],
   "source": [
    "model.add(Dense(1, activation='sigmoid'))\n",
    "\n",
    "pred_model = model.compile(loss='binary_crossentropy', optimizer='adam', metrics=['accuracy'])\n",
    "pred_model"
   ]
  },
  {
   "cell_type": "code",
   "execution_count": 19,
   "metadata": {},
   "outputs": [
    {
     "name": "stdout",
     "output_type": "stream",
     "text": [
      "Model: \"sequential_1\"\n",
      "_________________________________________________________________\n",
      "Layer (type)                 Output Shape              Param #   \n",
      "=================================================================\n",
      "dense_4 (Dense)              (None, 12)                108       \n",
      "_________________________________________________________________\n",
      "dense_5 (Dense)              (None, 8)                 104       \n",
      "_________________________________________________________________\n",
      "dense_6 (Dense)              (None, 8)                 72        \n",
      "_________________________________________________________________\n",
      "dense_7 (Dense)              (None, 1)                 9         \n",
      "=================================================================\n",
      "Total params: 293\n",
      "Trainable params: 293\n",
      "Non-trainable params: 0\n",
      "_________________________________________________________________\n"
     ]
    }
   ],
   "source": [
    "model.summary()"
   ]
  },
  {
   "cell_type": "code",
   "execution_count": 22,
   "metadata": {},
   "outputs": [
    {
     "data": {
      "text/plain": [
       "False"
      ]
     },
     "execution_count": 22,
     "metadata": {},
     "output_type": "execute_result"
    }
   ],
   "source": [
    "df.isnull().values.any()"
   ]
  },
  {
   "cell_type": "code",
   "execution_count": 23,
   "metadata": {},
   "outputs": [
    {
     "data": {
      "image/png": "[encoded data removed]",
      "text/plain": [
       "<Figure size 720x720 with 9 Axes>"
      ]
     },
     "metadata": {
      "needs_background": "light"
     },
     "output_type": "display_data"
    }
   ],
   "source": [
    "df.hist(bins=10,figsize=(10,10))\n",
    "plt.show()"
   ]
  },
  {
   "cell_type": "code",
   "execution_count": 29,
   "metadata": {},
   "outputs": [
    {
     "name": "stdout",
     "output_type": "stream",
     "text": [
      "Epoch 1/200\n",
      "31/31 [==============================] - 24s 2ms/step - loss: 0.7422 - accuracy: 0.3493\n",
      "Epoch 2/200\n",
      "31/31 [==============================] - 0s 2ms/step - loss: 0.6964 - accuracy: 0.4115\n",
      "Epoch 3/200\n",
      "31/31 [==============================] - 0s 2ms/step - loss: 0.6854 - accuracy: 0.6591\n",
      "Epoch 4/200\n",
      "31/31 [==============================] - 0s 1ms/step - loss: 0.6797 - accuracy: 0.6438\n",
      "Epoch 5/200\n",
      "31/31 [==============================] - 0s 2ms/step - loss: 0.6699 - accuracy: 0.6770\n",
      "Epoch 6/200\n",
      "31/31 [==============================] - 0s 1ms/step - loss: 0.6669 - accuracy: 0.6571\n",
      "Epoch 7/200\n",
      "31/31 [==============================] - 0s 2ms/step - loss: 0.6582 - accuracy: 0.6672\n",
      "Epoch 8/200\n",
      "31/31 [==============================] - 0s 1ms/step - loss: 0.6596 - accuracy: 0.6384\n",
      "Epoch 9/200\n",
      "31/31 [==============================] - 0s 2ms/step - loss: 0.6538 - accuracy: 0.6368\n",
      "Epoch 10/200\n",
      "31/31 [==============================] - 0s 2ms/step - loss: 0.6474 - accuracy: 0.6563\n",
      "Epoch 11/200\n",
      "31/31 [==============================] - 0s 2ms/step - loss: 0.6423 - accuracy: 0.6616\n",
      "Epoch 12/200\n",
      "31/31 [==============================] - 0s 2ms/step - loss: 0.6357 - accuracy: 0.6640\n",
      "Epoch 13/200\n",
      "31/31 [==============================] - 0s 2ms/step - loss: 0.6382 - accuracy: 0.6613\n",
      "Epoch 14/200\n",
      "31/31 [==============================] - 0s 2ms/step - loss: 0.6213 - accuracy: 0.6802\n",
      "Epoch 15/200\n",
      "31/31 [==============================] - 0s 2ms/step - loss: 0.6239 - accuracy: 0.6803\n",
      "Epoch 16/200\n",
      "31/31 [==============================] - 0s 2ms/step - loss: 0.6132 - accuracy: 0.6912\n",
      "Epoch 17/200\n",
      "31/31 [==============================] - 0s 2ms/step - loss: 0.6002 - accuracy: 0.7104\n",
      "Epoch 18/200\n",
      "31/31 [==============================] - 0s 2ms/step - loss: 0.5924 - accuracy: 0.7038\n",
      "Epoch 19/200\n",
      "31/31 [==============================] - 0s 2ms/step - loss: 0.5853 - accuracy: 0.7138\n",
      "Epoch 20/200\n",
      "31/31 [==============================] - 0s 2ms/step - loss: 0.5635 - accuracy: 0.7266\n",
      "Epoch 21/200\n",
      "31/31 [==============================] - 0s 2ms/step - loss: 0.5712 - accuracy: 0.7048\n",
      "Epoch 22/200\n",
      "31/31 [==============================] - 0s 2ms/step - loss: 0.5615 - accuracy: 0.7455\n",
      "Epoch 23/200\n",
      "31/31 [==============================] - 0s 2ms/step - loss: 0.5532 - accuracy: 0.7315\n",
      "Epoch 24/200\n",
      "31/31 [==============================] - 0s 2ms/step - loss: 0.5384 - accuracy: 0.7461\n",
      "Epoch 25/200\n",
      "31/31 [==============================] - 0s 2ms/step - loss: 0.5057 - accuracy: 0.7918\n",
      "Epoch 26/200\n",
      "31/31 [==============================] - 0s 2ms/step - loss: 0.5051 - accuracy: 0.7842\n",
      "Epoch 27/200\n",
      "31/31 [==============================] - 0s 1ms/step - loss: 0.5430 - accuracy: 0.7533\n",
      "Epoch 28/200\n",
      "31/31 [==============================] - 0s 2ms/step - loss: 0.5477 - accuracy: 0.7200\n",
      "Epoch 29/200\n",
      "31/31 [==============================] - 0s 2ms/step - loss: 0.4932 - accuracy: 0.7656\n",
      "Epoch 30/200\n",
      "31/31 [==============================] - 0s 2ms/step - loss: 0.5085 - accuracy: 0.7544\n",
      "Epoch 31/200\n",
      "31/31 [==============================] - 0s 2ms/step - loss: 0.4899 - accuracy: 0.7785\n",
      "Epoch 32/200\n",
      "31/31 [==============================] - 0s 2ms/step - loss: 0.4729 - accuracy: 0.7899\n",
      "Epoch 33/200\n",
      "31/31 [==============================] - 0s 2ms/step - loss: 0.4865 - accuracy: 0.7625\n",
      "Epoch 34/200\n",
      "31/31 [==============================] - 0s 2ms/step - loss: 0.4969 - accuracy: 0.7619\n",
      "Epoch 35/200\n",
      "31/31 [==============================] - 0s 2ms/step - loss: 0.4598 - accuracy: 0.7857\n",
      "Epoch 36/200\n",
      "31/31 [==============================] - 0s 2ms/step - loss: 0.4470 - accuracy: 0.8133\n",
      "Epoch 37/200\n",
      "31/31 [==============================] - 0s 2ms/step - loss: 0.4552 - accuracy: 0.7902\n",
      "Epoch 38/200\n",
      "31/31 [==============================] - 0s 2ms/step - loss: 0.4739 - accuracy: 0.7811\n",
      "Epoch 39/200\n",
      "31/31 [==============================] - 0s 2ms/step - loss: 0.4397 - accuracy: 0.8091\n",
      "Epoch 40/200\n",
      "31/31 [==============================] - 0s 1ms/step - loss: 0.4832 - accuracy: 0.7698\n",
      "Epoch 41/200\n",
      "31/31 [==============================] - 0s 2ms/step - loss: 0.4662 - accuracy: 0.7797\n",
      "Epoch 42/200\n",
      "31/31 [==============================] - 0s 2ms/step - loss: 0.4648 - accuracy: 0.7748\n",
      "Epoch 43/200\n",
      "31/31 [==============================] - 0s 2ms/step - loss: 0.4615 - accuracy: 0.7769\n",
      "Epoch 44/200\n",
      "31/31 [==============================] - 0s 2ms/step - loss: 0.4836 - accuracy: 0.7589\n",
      "Epoch 45/200\n",
      "31/31 [==============================] - 0s 2ms/step - loss: 0.4512 - accuracy: 0.7841\n",
      "Epoch 46/200\n",
      "31/31 [==============================] - 0s 2ms/step - loss: 0.4758 - accuracy: 0.7768\n",
      "Epoch 47/200\n",
      "31/31 [==============================] - 0s 2ms/step - loss: 0.4492 - accuracy: 0.7647\n",
      "Epoch 48/200\n",
      "31/31 [==============================] - 0s 2ms/step - loss: 0.4486 - accuracy: 0.7846\n",
      "Epoch 49/200\n",
      "31/31 [==============================] - 0s 2ms/step - loss: 0.4585 - accuracy: 0.7869\n",
      "Epoch 50/200\n",
      "31/31 [==============================] - 0s 2ms/step - loss: 0.4687 - accuracy: 0.7728\n",
      "Epoch 51/200\n",
      "31/31 [==============================] - 0s 2ms/step - loss: 0.4387 - accuracy: 0.7946\n",
      "Epoch 52/200\n",
      "31/31 [==============================] - 0s 2ms/step - loss: 0.4877 - accuracy: 0.7580\n",
      "Epoch 53/200\n",
      "31/31 [==============================] - 0s 2ms/step - loss: 0.4689 - accuracy: 0.7751\n",
      "Epoch 54/200\n",
      "31/31 [==============================] - 0s 2ms/step - loss: 0.4757 - accuracy: 0.7788\n",
      "Epoch 55/200\n",
      "31/31 [==============================] - 0s 2ms/step - loss: 0.4284 - accuracy: 0.8034\n",
      "Epoch 56/200\n",
      "31/31 [==============================] - 0s 2ms/step - loss: 0.4659 - accuracy: 0.7797\n",
      "Epoch 57/200\n",
      "31/31 [==============================] - 0s 2ms/step - loss: 0.4546 - accuracy: 0.7954\n",
      "Epoch 58/200\n",
      "31/31 [==============================] - 0s 2ms/step - loss: 0.4588 - accuracy: 0.7835\n",
      "Epoch 59/200\n",
      "31/31 [==============================] - 0s 2ms/step - loss: 0.4225 - accuracy: 0.8146\n",
      "Epoch 60/200\n",
      "31/31 [==============================] - 0s 1ms/step - loss: 0.4505 - accuracy: 0.7861\n",
      "Epoch 61/200\n",
      "31/31 [==============================] - 0s 2ms/step - loss: 0.4516 - accuracy: 0.7836\n",
      "Epoch 62/200\n",
      "31/31 [==============================] - 0s 2ms/step - loss: 0.4460 - accuracy: 0.7729\n",
      "Epoch 63/200\n",
      "31/31 [==============================] - 0s 2ms/step - loss: 0.4621 - accuracy: 0.7706\n",
      "Epoch 64/200\n",
      "31/31 [==============================] - 0s 2ms/step - loss: 0.4603 - accuracy: 0.7770\n",
      "Epoch 65/200\n",
      "31/31 [==============================] - 0s 2ms/step - loss: 0.4686 - accuracy: 0.7630\n",
      "Epoch 66/200\n",
      "31/31 [==============================] - 0s 2ms/step - loss: 0.4230 - accuracy: 0.8029\n",
      "Epoch 67/200\n",
      "31/31 [==============================] - 0s 2ms/step - loss: 0.4667 - accuracy: 0.7820\n",
      "Epoch 68/200\n",
      "31/31 [==============================] - 0s 2ms/step - loss: 0.4587 - accuracy: 0.7737\n",
      "Epoch 69/200\n",
      "31/31 [==============================] - 0s 2ms/step - loss: 0.4799 - accuracy: 0.7722\n",
      "Epoch 70/200\n",
      "31/31 [==============================] - 0s 2ms/step - loss: 0.4770 - accuracy: 0.7813\n",
      "Epoch 71/200\n",
      "31/31 [==============================] - 0s 2ms/step - loss: 0.4583 - accuracy: 0.7679\n",
      "Epoch 72/200\n",
      "31/31 [==============================] - 0s 2ms/step - loss: 0.5041 - accuracy: 0.7563\n",
      "Epoch 73/200\n",
      "31/31 [==============================] - 0s 2ms/step - loss: 0.4893 - accuracy: 0.7664\n",
      "Epoch 74/200\n",
      "31/31 [==============================] - 0s 2ms/step - loss: 0.4676 - accuracy: 0.7778\n",
      "Epoch 75/200\n",
      "31/31 [==============================] - 0s 2ms/step - loss: 0.4667 - accuracy: 0.7758\n",
      "Epoch 76/200\n",
      "31/31 [==============================] - 0s 2ms/step - loss: 0.4978 - accuracy: 0.7580\n",
      "Epoch 77/200\n",
      "31/31 [==============================] - 0s 2ms/step - loss: 0.4217 - accuracy: 0.8052\n",
      "Epoch 78/200\n",
      "31/31 [==============================] - 0s 1ms/step - loss: 0.4697 - accuracy: 0.7702\n",
      "Epoch 79/200\n",
      "31/31 [==============================] - 0s 2ms/step - loss: 0.4706 - accuracy: 0.7616\n",
      "Epoch 80/200\n",
      "31/31 [==============================] - 0s 2ms/step - loss: 0.4320 - accuracy: 0.8012\n",
      "Epoch 81/200\n",
      "31/31 [==============================] - 0s 2ms/step - loss: 0.4594 - accuracy: 0.7832\n",
      "Epoch 82/200\n",
      "31/31 [==============================] - 0s 2ms/step - loss: 0.4136 - accuracy: 0.8058\n",
      "Epoch 83/200\n"
     ]
    },
    {
     "name": "stdout",
     "output_type": "stream",
     "text": [
      "31/31 [==============================] - 0s 2ms/step - loss: 0.4343 - accuracy: 0.7978\n",
      "Epoch 84/200\n",
      "31/31 [==============================] - 0s 2ms/step - loss: 0.4387 - accuracy: 0.7967\n",
      "Epoch 85/200\n",
      "31/31 [==============================] - 0s 2ms/step - loss: 0.4371 - accuracy: 0.7845\n",
      "Epoch 86/200\n",
      "31/31 [==============================] - 0s 2ms/step - loss: 0.4260 - accuracy: 0.7990\n",
      "Epoch 87/200\n",
      "31/31 [==============================] - 0s 1ms/step - loss: 0.4715 - accuracy: 0.7721\n",
      "Epoch 88/200\n",
      "31/31 [==============================] - 0s 1ms/step - loss: 0.4525 - accuracy: 0.7645\n",
      "Epoch 89/200\n",
      "31/31 [==============================] - 0s 2ms/step - loss: 0.4413 - accuracy: 0.7802\n",
      "Epoch 90/200\n",
      "31/31 [==============================] - 0s 2ms/step - loss: 0.4901 - accuracy: 0.7568\n",
      "Epoch 91/200\n",
      "31/31 [==============================] - 0s 2ms/step - loss: 0.4177 - accuracy: 0.7840\n",
      "Epoch 92/200\n",
      "31/31 [==============================] - 0s 2ms/step - loss: 0.4298 - accuracy: 0.8127\n",
      "Epoch 93/200\n",
      "31/31 [==============================] - 0s 2ms/step - loss: 0.4752 - accuracy: 0.7661\n",
      "Epoch 94/200\n",
      "31/31 [==============================] - 0s 2ms/step - loss: 0.4497 - accuracy: 0.7860\n",
      "Epoch 95/200\n",
      "31/31 [==============================] - 0s 2ms/step - loss: 0.4442 - accuracy: 0.7832\n",
      "Epoch 96/200\n",
      "31/31 [==============================] - 0s 2ms/step - loss: 0.4371 - accuracy: 0.7959\n",
      "Epoch 97/200\n",
      "31/31 [==============================] - 0s 2ms/step - loss: 0.4492 - accuracy: 0.7845\n",
      "Epoch 98/200\n",
      "31/31 [==============================] - 0s 2ms/step - loss: 0.4739 - accuracy: 0.7531\n",
      "Epoch 99/200\n",
      "31/31 [==============================] - 0s 2ms/step - loss: 0.4640 - accuracy: 0.7774\n",
      "Epoch 100/200\n",
      "31/31 [==============================] - 0s 1ms/step - loss: 0.4348 - accuracy: 0.7924\n",
      "Epoch 101/200\n",
      "31/31 [==============================] - 0s 2ms/step - loss: 0.4267 - accuracy: 0.7888\n",
      "Epoch 102/200\n",
      "31/31 [==============================] - 0s 2ms/step - loss: 0.4399 - accuracy: 0.7980\n",
      "Epoch 103/200\n",
      "31/31 [==============================] - 0s 2ms/step - loss: 0.4475 - accuracy: 0.7823\n",
      "Epoch 104/200\n",
      "31/31 [==============================] - 0s 2ms/step - loss: 0.4579 - accuracy: 0.7802\n",
      "Epoch 105/200\n",
      "31/31 [==============================] - 0s 1ms/step - loss: 0.4565 - accuracy: 0.7659\n",
      "Epoch 106/200\n",
      "31/31 [==============================] - 0s 1ms/step - loss: 0.4672 - accuracy: 0.7769\n",
      "Epoch 107/200\n",
      "31/31 [==============================] - 0s 2ms/step - loss: 0.4461 - accuracy: 0.7794\n",
      "Epoch 108/200\n",
      "31/31 [==============================] - 0s 1ms/step - loss: 0.4804 - accuracy: 0.7694\n",
      "Epoch 109/200\n",
      "31/31 [==============================] - 0s 2ms/step - loss: 0.4304 - accuracy: 0.8054\n",
      "Epoch 110/200\n",
      "31/31 [==============================] - 0s 1ms/step - loss: 0.4266 - accuracy: 0.7973\n",
      "Epoch 111/200\n",
      "31/31 [==============================] - 0s 2ms/step - loss: 0.4421 - accuracy: 0.7925\n",
      "Epoch 112/200\n",
      "31/31 [==============================] - 0s 2ms/step - loss: 0.4354 - accuracy: 0.7950\n",
      "Epoch 113/200\n",
      "31/31 [==============================] - 0s 2ms/step - loss: 0.4413 - accuracy: 0.7882\n",
      "Epoch 114/200\n",
      "31/31 [==============================] - 0s 2ms/step - loss: 0.4651 - accuracy: 0.7756\n",
      "Epoch 115/200\n",
      "31/31 [==============================] - 0s 2ms/step - loss: 0.4400 - accuracy: 0.7996\n",
      "Epoch 116/200\n",
      "31/31 [==============================] - 0s 1ms/step - loss: 0.4592 - accuracy: 0.7914\n",
      "Epoch 117/200\n",
      "31/31 [==============================] - 0s 2ms/step - loss: 0.4512 - accuracy: 0.7849\n",
      "Epoch 118/200\n",
      "31/31 [==============================] - 0s 1ms/step - loss: 0.4394 - accuracy: 0.7991\n",
      "Epoch 119/200\n",
      "31/31 [==============================] - 0s 1ms/step - loss: 0.4420 - accuracy: 0.7909\n",
      "Epoch 120/200\n",
      "31/31 [==============================] - 0s 1ms/step - loss: 0.4573 - accuracy: 0.7793\n",
      "Epoch 121/200\n",
      "31/31 [==============================] - 0s 1ms/step - loss: 0.4380 - accuracy: 0.7847\n",
      "Epoch 122/200\n",
      "31/31 [==============================] - 0s 1ms/step - loss: 0.4898 - accuracy: 0.7573\n",
      "Epoch 123/200\n",
      "31/31 [==============================] - 0s 1ms/step - loss: 0.4565 - accuracy: 0.7746\n",
      "Epoch 124/200\n",
      "31/31 [==============================] - 0s 1ms/step - loss: 0.4340 - accuracy: 0.7964\n",
      "Epoch 125/200\n",
      "31/31 [==============================] - 0s 1ms/step - loss: 0.4068 - accuracy: 0.8159\n",
      "Epoch 126/200\n",
      "31/31 [==============================] - 0s 1ms/step - loss: 0.4694 - accuracy: 0.7667\n",
      "Epoch 127/200\n",
      "31/31 [==============================] - 0s 1ms/step - loss: 0.5060 - accuracy: 0.7550\n",
      "Epoch 128/200\n",
      "31/31 [==============================] - 0s 1ms/step - loss: 0.4395 - accuracy: 0.7781\n",
      "Epoch 129/200\n",
      "31/31 [==============================] - 0s 1ms/step - loss: 0.4182 - accuracy: 0.8176\n",
      "Epoch 130/200\n",
      "31/31 [==============================] - 0s 1ms/step - loss: 0.4495 - accuracy: 0.7647\n",
      "Epoch 131/200\n",
      "31/31 [==============================] - 0s 2ms/step - loss: 0.4375 - accuracy: 0.7922\n",
      "Epoch 132/200\n",
      "31/31 [==============================] - 0s 1ms/step - loss: 0.4268 - accuracy: 0.7976\n",
      "Epoch 133/200\n",
      "31/31 [==============================] - 0s 2ms/step - loss: 0.4412 - accuracy: 0.7890\n",
      "Epoch 134/200\n",
      "31/31 [==============================] - 0s 2ms/step - loss: 0.4740 - accuracy: 0.7647\n",
      "Epoch 135/200\n",
      "31/31 [==============================] - 0s 2ms/step - loss: 0.4432 - accuracy: 0.8022\n",
      "Epoch 136/200\n",
      "31/31 [==============================] - 0s 1ms/step - loss: 0.4275 - accuracy: 0.7947\n",
      "Epoch 137/200\n",
      "31/31 [==============================] - 0s 1ms/step - loss: 0.4376 - accuracy: 0.7832\n",
      "Epoch 138/200\n",
      "31/31 [==============================] - 0s 2ms/step - loss: 0.4468 - accuracy: 0.7938\n",
      "Epoch 139/200\n",
      "31/31 [==============================] - 0s 1ms/step - loss: 0.4453 - accuracy: 0.7850\n",
      "Epoch 140/200\n",
      "31/31 [==============================] - 0s 2ms/step - loss: 0.4588 - accuracy: 0.7690\n",
      "Epoch 141/200\n",
      "31/31 [==============================] - 0s 2ms/step - loss: 0.4335 - accuracy: 0.8008\n",
      "Epoch 142/200\n",
      "31/31 [==============================] - 0s 2ms/step - loss: 0.4473 - accuracy: 0.7814\n",
      "Epoch 143/200\n",
      "31/31 [==============================] - 0s 2ms/step - loss: 0.4535 - accuracy: 0.7735\n",
      "Epoch 144/200\n",
      "31/31 [==============================] - 0s 2ms/step - loss: 0.4298 - accuracy: 0.8082\n",
      "Epoch 145/200\n",
      "31/31 [==============================] - 0s 2ms/step - loss: 0.4303 - accuracy: 0.7682\n",
      "Epoch 146/200\n",
      "31/31 [==============================] - 0s 2ms/step - loss: 0.4543 - accuracy: 0.7834\n",
      "Epoch 147/200\n",
      "31/31 [==============================] - 0s 2ms/step - loss: 0.4335 - accuracy: 0.7896\n",
      "Epoch 148/200\n",
      "31/31 [==============================] - 0s 1ms/step - loss: 0.4531 - accuracy: 0.7782\n",
      "Epoch 149/200\n",
      "31/31 [==============================] - 0s 2ms/step - loss: 0.4365 - accuracy: 0.7888\n",
      "Epoch 150/200\n",
      "31/31 [==============================] - 0s 2ms/step - loss: 0.4333 - accuracy: 0.7982\n",
      "Epoch 151/200\n",
      "31/31 [==============================] - 0s 1ms/step - loss: 0.4429 - accuracy: 0.7977\n",
      "Epoch 152/200\n",
      "31/31 [==============================] - 0s 2ms/step - loss: 0.4356 - accuracy: 0.7971\n",
      "Epoch 153/200\n",
      "31/31 [==============================] - 0s 2ms/step - loss: 0.4146 - accuracy: 0.7983\n",
      "Epoch 154/200\n",
      "31/31 [==============================] - 0s 2ms/step - loss: 0.4483 - accuracy: 0.7658\n",
      "Epoch 155/200\n",
      "31/31 [==============================] - 0s 2ms/step - loss: 0.4344 - accuracy: 0.7952\n",
      "Epoch 156/200\n",
      "31/31 [==============================] - 0s 2ms/step - loss: 0.4161 - accuracy: 0.8151\n",
      "Epoch 157/200\n",
      "31/31 [==============================] - 0s 2ms/step - loss: 0.4480 - accuracy: 0.7913\n",
      "Epoch 158/200\n",
      "31/31 [==============================] - 0s 1ms/step - loss: 0.4269 - accuracy: 0.7934\n",
      "Epoch 159/200\n",
      "31/31 [==============================] - 0s 2ms/step - loss: 0.4252 - accuracy: 0.8036\n",
      "Epoch 160/200\n",
      "31/31 [==============================] - 0s 2ms/step - loss: 0.4508 - accuracy: 0.7892\n",
      "Epoch 161/200\n",
      "31/31 [==============================] - 0s 2ms/step - loss: 0.4001 - accuracy: 0.8183\n",
      "Epoch 162/200\n",
      "31/31 [==============================] - 0s 1ms/step - loss: 0.4356 - accuracy: 0.8059\n",
      "Epoch 163/200\n",
      "31/31 [==============================] - 0s 1ms/step - loss: 0.4467 - accuracy: 0.7919\n",
      "Epoch 164/200\n"
     ]
    },
    {
     "name": "stdout",
     "output_type": "stream",
     "text": [
      "31/31 [==============================] - 0s 1ms/step - loss: 0.4932 - accuracy: 0.7518\n",
      "Epoch 165/200\n",
      "31/31 [==============================] - 0s 1ms/step - loss: 0.4132 - accuracy: 0.8157\n",
      "Epoch 166/200\n",
      "31/31 [==============================] - 0s 2ms/step - loss: 0.4014 - accuracy: 0.8182\n",
      "Epoch 167/200\n",
      "31/31 [==============================] - 0s 2ms/step - loss: 0.4500 - accuracy: 0.7839\n",
      "Epoch 168/200\n",
      "31/31 [==============================] - 0s 2ms/step - loss: 0.4455 - accuracy: 0.7794\n",
      "Epoch 169/200\n",
      "31/31 [==============================] - 0s 2ms/step - loss: 0.4060 - accuracy: 0.8117\n",
      "Epoch 170/200\n",
      "31/31 [==============================] - 0s 2ms/step - loss: 0.4684 - accuracy: 0.7682\n",
      "Epoch 171/200\n",
      "31/31 [==============================] - 0s 1ms/step - loss: 0.4373 - accuracy: 0.7833\n",
      "Epoch 172/200\n",
      "31/31 [==============================] - 0s 2ms/step - loss: 0.4219 - accuracy: 0.7866\n",
      "Epoch 173/200\n",
      "31/31 [==============================] - 0s 2ms/step - loss: 0.4445 - accuracy: 0.7865\n",
      "Epoch 174/200\n",
      "31/31 [==============================] - 0s 2ms/step - loss: 0.4176 - accuracy: 0.8001\n",
      "Epoch 175/200\n",
      "31/31 [==============================] - 0s 2ms/step - loss: 0.4514 - accuracy: 0.7745\n",
      "Epoch 176/200\n",
      "31/31 [==============================] - 0s 2ms/step - loss: 0.4214 - accuracy: 0.7889\n",
      "Epoch 177/200\n",
      "31/31 [==============================] - 0s 1ms/step - loss: 0.4185 - accuracy: 0.8062\n",
      "Epoch 178/200\n",
      "31/31 [==============================] - 0s 2ms/step - loss: 0.4504 - accuracy: 0.7770\n",
      "Epoch 179/200\n",
      "31/31 [==============================] - 0s 2ms/step - loss: 0.4328 - accuracy: 0.7882\n",
      "Epoch 180/200\n",
      "31/31 [==============================] - 0s 2ms/step - loss: 0.4505 - accuracy: 0.7952\n",
      "Epoch 181/200\n",
      "31/31 [==============================] - 0s 1ms/step - loss: 0.4335 - accuracy: 0.7967\n",
      "Epoch 182/200\n",
      "31/31 [==============================] - 0s 2ms/step - loss: 0.4456 - accuracy: 0.7821\n",
      "Epoch 183/200\n",
      "31/31 [==============================] - 0s 2ms/step - loss: 0.4548 - accuracy: 0.7749\n",
      "Epoch 184/200\n",
      "31/31 [==============================] - 0s 2ms/step - loss: 0.4110 - accuracy: 0.8119\n",
      "Epoch 185/200\n",
      "31/31 [==============================] - 0s 1ms/step - loss: 0.4302 - accuracy: 0.7859\n",
      "Epoch 186/200\n",
      "31/31 [==============================] - 0s 2ms/step - loss: 0.4412 - accuracy: 0.7792\n",
      "Epoch 187/200\n",
      "31/31 [==============================] - 0s 2ms/step - loss: 0.4333 - accuracy: 0.7771\n",
      "Epoch 188/200\n",
      "31/31 [==============================] - 0s 2ms/step - loss: 0.4371 - accuracy: 0.7703\n",
      "Epoch 189/200\n",
      "31/31 [==============================] - 0s 2ms/step - loss: 0.4085 - accuracy: 0.8122\n",
      "Epoch 190/200\n",
      "31/31 [==============================] - 0s 1ms/step - loss: 0.4469 - accuracy: 0.7654\n",
      "Epoch 191/200\n",
      "31/31 [==============================] - 0s 2ms/step - loss: 0.4350 - accuracy: 0.7755\n",
      "Epoch 192/200\n",
      "31/31 [==============================] - 0s 2ms/step - loss: 0.4485 - accuracy: 0.8031\n",
      "Epoch 193/200\n",
      "31/31 [==============================] - 0s 2ms/step - loss: 0.4361 - accuracy: 0.7889\n",
      "Epoch 194/200\n",
      "31/31 [==============================] - 0s 2ms/step - loss: 0.4388 - accuracy: 0.7807\n",
      "Epoch 195/200\n",
      "31/31 [==============================] - 0s 2ms/step - loss: 0.4726 - accuracy: 0.7645\n",
      "Epoch 196/200\n",
      "31/31 [==============================] - 0s 2ms/step - loss: 0.4307 - accuracy: 0.7801\n",
      "Epoch 197/200\n",
      "31/31 [==============================] - 0s 2ms/step - loss: 0.4288 - accuracy: 0.8049\n",
      "Epoch 198/200\n",
      "31/31 [==============================] - 0s 2ms/step - loss: 0.4102 - accuracy: 0.8109\n",
      "Epoch 199/200\n",
      "31/31 [==============================] - 0s 1ms/step - loss: 0.4577 - accuracy: 0.7867\n",
      "Epoch 200/200\n",
      "31/31 [==============================] - 0s 2ms/step - loss: 0.4160 - accuracy: 0.8221\n"
     ]
    }
   ],
   "source": [
    "model.fit(X_train, y_train, epochs=200, verbose=1, batch_size=20)\n",
    "\n",
    "y_pred = model.predict(X_test)\n",
    "y_pred = y_pred >= 0.13"
   ]
  },
  {
   "cell_type": "code",
   "execution_count": 30,
   "metadata": {},
   "outputs": [
    {
     "data": {
      "text/plain": [
       "0.558"
      ]
     },
     "execution_count": 30,
     "metadata": {},
     "output_type": "execute_result"
    }
   ],
   "source": [
    "from sklearn.metrics import accuracy_score\n",
    "\n",
    "round(accuracy_score(y_test, y_pred),3)"
   ]
  },
  {
   "cell_type": "markdown",
   "metadata": {},
   "source": [
    "#### Accuracy mendapat 82%\n",
    "#### Coba dengan menggunakan model lain dan mengulangi Preprocessing data"
   ]
  },
  {
   "cell_type": "markdown",
   "metadata": {},
   "source": [
    "## Coba dengan model lain"
   ]
  },
  {
   "cell_type": "markdown",
   "metadata": {},
   "source": [
    "# Menggunakan Fitur Scaling MinMaxScaler"
   ]
  },
  {
   "cell_type": "code",
   "execution_count": 34,
   "metadata": {},
   "outputs": [],
   "source": [
    "dataset_new = dataset"
   ]
  },
  {
   "cell_type": "code",
   "execution_count": 35,
   "metadata": {},
   "outputs": [],
   "source": [
    "# Replacing zero values with NaN\n",
    "dataset_new[[\"Glucose\", \"BloodPressure\", \"SkinThickness\", \"Insulin\", \"BMI\"]] = dataset_new[\n",
    "    [\"Glucose\", \"BloodPressure\", \"SkinThickness\", \"Insulin\", \"BMI\"]].replace(0, np.NaN)"
   ]
  },
  {
   "cell_type": "code",
   "execution_count": 36,
   "metadata": {},
   "outputs": [
    {
     "data": {
      "text/plain": [
       "Pregnancies                   0\n",
       "Glucose                       5\n",
       "BloodPressure                35\n",
       "SkinThickness               227\n",
       "Insulin                     374\n",
       "BMI                          11\n",
       "DiabetesPedigreeFunction      0\n",
       "Age                           0\n",
       "Outcome                       0\n",
       "dtype: int64"
      ]
     },
     "execution_count": 36,
     "metadata": {},
     "output_type": "execute_result"
    }
   ],
   "source": [
    "dataset_new.isnull().sum()"
   ]
  },
  {
   "cell_type": "code",
   "execution_count": 38,
   "metadata": {},
   "outputs": [
    {
     "data": {
      "text/html": [
       "<div>\n",
       "<style scoped>\n",
       "    .dataframe tbody tr th:only-of-type {\n",
       "        vertical-align: middle;\n",
       "    }\n",
       "\n",
       "    .dataframe tbody tr th {\n",
       "        vertical-align: top;\n",
       "    }\n",
       "\n",
       "    .dataframe thead th {\n",
       "        text-align: right;\n",
       "    }\n",
       "</style>\n",
       "<table border=\"1\" class=\"dataframe\">\n",
       "  <thead>\n",
       "    <tr style=\"text-align: right;\">\n",
       "      <th></th>\n",
       "      <th>count</th>\n",
       "      <th>mean</th>\n",
       "      <th>std</th>\n",
       "      <th>min</th>\n",
       "      <th>25%</th>\n",
       "      <th>50%</th>\n",
       "      <th>75%</th>\n",
       "      <th>max</th>\n",
       "    </tr>\n",
       "  </thead>\n",
       "  <tbody>\n",
       "    <tr>\n",
       "      <th>Pregnancies</th>\n",
       "      <td>768.0</td>\n",
       "      <td>3.845052</td>\n",
       "      <td>3.369578</td>\n",
       "      <td>0.000</td>\n",
       "      <td>1.00000</td>\n",
       "      <td>3.000000</td>\n",
       "      <td>6.000000</td>\n",
       "      <td>17.00</td>\n",
       "    </tr>\n",
       "    <tr>\n",
       "      <th>Glucose</th>\n",
       "      <td>768.0</td>\n",
       "      <td>121.686763</td>\n",
       "      <td>30.435949</td>\n",
       "      <td>44.000</td>\n",
       "      <td>99.75000</td>\n",
       "      <td>117.000000</td>\n",
       "      <td>140.250000</td>\n",
       "      <td>199.00</td>\n",
       "    </tr>\n",
       "    <tr>\n",
       "      <th>BloodPressure</th>\n",
       "      <td>768.0</td>\n",
       "      <td>72.405184</td>\n",
       "      <td>12.096346</td>\n",
       "      <td>24.000</td>\n",
       "      <td>64.00000</td>\n",
       "      <td>72.202592</td>\n",
       "      <td>80.000000</td>\n",
       "      <td>122.00</td>\n",
       "    </tr>\n",
       "    <tr>\n",
       "      <th>SkinThickness</th>\n",
       "      <td>768.0</td>\n",
       "      <td>29.153420</td>\n",
       "      <td>8.790942</td>\n",
       "      <td>7.000</td>\n",
       "      <td>25.00000</td>\n",
       "      <td>29.153420</td>\n",
       "      <td>32.000000</td>\n",
       "      <td>99.00</td>\n",
       "    </tr>\n",
       "    <tr>\n",
       "      <th>Insulin</th>\n",
       "      <td>768.0</td>\n",
       "      <td>155.548223</td>\n",
       "      <td>85.021108</td>\n",
       "      <td>14.000</td>\n",
       "      <td>121.50000</td>\n",
       "      <td>155.548223</td>\n",
       "      <td>155.548223</td>\n",
       "      <td>846.00</td>\n",
       "    </tr>\n",
       "    <tr>\n",
       "      <th>BMI</th>\n",
       "      <td>768.0</td>\n",
       "      <td>32.457464</td>\n",
       "      <td>6.875151</td>\n",
       "      <td>18.200</td>\n",
       "      <td>27.50000</td>\n",
       "      <td>32.400000</td>\n",
       "      <td>36.600000</td>\n",
       "      <td>67.10</td>\n",
       "    </tr>\n",
       "    <tr>\n",
       "      <th>DiabetesPedigreeFunction</th>\n",
       "      <td>768.0</td>\n",
       "      <td>0.471876</td>\n",
       "      <td>0.331329</td>\n",
       "      <td>0.078</td>\n",
       "      <td>0.24375</td>\n",
       "      <td>0.372500</td>\n",
       "      <td>0.626250</td>\n",
       "      <td>2.42</td>\n",
       "    </tr>\n",
       "    <tr>\n",
       "      <th>Age</th>\n",
       "      <td>768.0</td>\n",
       "      <td>33.240885</td>\n",
       "      <td>11.760232</td>\n",
       "      <td>21.000</td>\n",
       "      <td>24.00000</td>\n",
       "      <td>29.000000</td>\n",
       "      <td>41.000000</td>\n",
       "      <td>81.00</td>\n",
       "    </tr>\n",
       "    <tr>\n",
       "      <th>Outcome</th>\n",
       "      <td>768.0</td>\n",
       "      <td>0.348958</td>\n",
       "      <td>0.476951</td>\n",
       "      <td>0.000</td>\n",
       "      <td>0.00000</td>\n",
       "      <td>0.000000</td>\n",
       "      <td>1.000000</td>\n",
       "      <td>1.00</td>\n",
       "    </tr>\n",
       "  </tbody>\n",
       "</table>\n",
       "</div>"
      ],
      "text/plain": [
       "                          count        mean        std     min        25%  \\\n",
       "Pregnancies               768.0    3.845052   3.369578   0.000    1.00000   \n",
       "Glucose                   768.0  121.686763  30.435949  44.000   99.75000   \n",
       "BloodPressure             768.0   72.405184  12.096346  24.000   64.00000   \n",
       "SkinThickness             768.0   29.153420   8.790942   7.000   25.00000   \n",
       "Insulin                   768.0  155.548223  85.021108  14.000  121.50000   \n",
       "BMI                       768.0   32.457464   6.875151  18.200   27.50000   \n",
       "DiabetesPedigreeFunction  768.0    0.471876   0.331329   0.078    0.24375   \n",
       "Age                       768.0   33.240885  11.760232  21.000   24.00000   \n",
       "Outcome                   768.0    0.348958   0.476951   0.000    0.00000   \n",
       "\n",
       "                                 50%         75%     max  \n",
       "Pregnancies                 3.000000    6.000000   17.00  \n",
       "Glucose                   117.000000  140.250000  199.00  \n",
       "BloodPressure              72.202592   80.000000  122.00  \n",
       "SkinThickness              29.153420   32.000000   99.00  \n",
       "Insulin                   155.548223  155.548223  846.00  \n",
       "BMI                        32.400000   36.600000   67.10  \n",
       "DiabetesPedigreeFunction    0.372500    0.626250    2.42  \n",
       "Age                        29.000000   41.000000   81.00  \n",
       "Outcome                     0.000000    1.000000    1.00  "
      ]
     },
     "execution_count": 38,
     "metadata": {},
     "output_type": "execute_result"
    }
   ],
   "source": [
    "# Replacing NaN with mean values\n",
    "dataset_new[\"Glucose\"].fillna(dataset_new[\"Glucose\"].mean(), inplace = True)\n",
    "dataset_new[\"BloodPressure\"].fillna(dataset_new[\"BloodPressure\"].mean(), inplace = True)\n",
    "dataset_new[\"SkinThickness\"].fillna(dataset_new[\"SkinThickness\"].mean(), inplace = True)\n",
    "dataset_new[\"Insulin\"].fillna(dataset_new[\"Insulin\"].mean(), inplace = True)\n",
    "dataset_new[\"BMI\"].fillna(dataset_new[\"BMI\"].mean(), inplace = True)\n",
    "\n",
    "\n",
    "\n",
    "# Statistical summary\n",
    "dataset_new.describe().T"
   ]
  },
  {
   "cell_type": "code",
   "execution_count": 39,
   "metadata": {},
   "outputs": [],
   "source": [
    "# Feature scaling using MinMaxScaler\n",
    "from sklearn.preprocessing import MinMaxScaler\n",
    "sc = MinMaxScaler(feature_range = (0, 1))\n",
    "dataset_scaled = sc.fit_transform(dataset_new)"
   ]
  },
  {
   "cell_type": "code",
   "execution_count": 40,
   "metadata": {},
   "outputs": [],
   "source": [
    "dataset_scaled = pd.DataFrame(dataset_scaled)"
   ]
  },
  {
   "cell_type": "code",
   "execution_count": 41,
   "metadata": {},
   "outputs": [],
   "source": [
    "# Selecting features - [Glucose, Insulin, BMI, Age]\n",
    "X = dataset_scaled.iloc[:, [1, 4, 5, 7]].values\n",
    "Y = dataset_scaled.iloc[:, 8].values"
   ]
  },
  {
   "cell_type": "code",
   "execution_count": 42,
   "metadata": {},
   "outputs": [],
   "source": [
    "# Splitting X and Y\n",
    "from sklearn.model_selection import train_test_split\n",
    "X_train, X_test, Y_train, Y_test = train_test_split(X, Y, test_size = 0.20, random_state = 42, stratify = dataset_new['Outcome'] )"
   ]
  },
  {
   "cell_type": "code",
   "execution_count": 43,
   "metadata": {},
   "outputs": [
    {
     "name": "stdout",
     "output_type": "stream",
     "text": [
      "X_train shape: (614, 4)\n",
      "X_test shape: (154, 4)\n",
      "Y_train shape: (614,)\n",
      "Y_test shape: (154,)\n"
     ]
    }
   ],
   "source": [
    "# Checking dimensions\n",
    "print(\"X_train shape:\", X_train.shape)\n",
    "print(\"X_test shape:\", X_test.shape)\n",
    "print(\"Y_train shape:\", Y_train.shape)\n",
    "print(\"Y_test shape:\", Y_test.shape)"
   ]
  },
  {
   "cell_type": "markdown",
   "metadata": {},
   "source": [
    "# Data model"
   ]
  },
  {
   "cell_type": "code",
   "execution_count": 45,
   "metadata": {},
   "outputs": [
    {
     "data": {
      "text/plain": [
       "LogisticRegression(random_state=42)"
      ]
     },
     "execution_count": 45,
     "metadata": {},
     "output_type": "execute_result"
    }
   ],
   "source": [
    "# Logistic Regression Algorithm\n",
    "from sklearn.linear_model import LogisticRegression\n",
    "logreg = LogisticRegression(random_state = 42)\n",
    "logreg.fit(X_train, Y_train)"
   ]
  },
  {
   "cell_type": "code",
   "execution_count": 61,
   "metadata": {},
   "outputs": [
    {
     "data": {
      "image/png": "[encoded data removed]",
      "text/plain": [
       "<Figure size 432x288 with 1 Axes>"
      ]
     },
     "metadata": {
      "needs_background": "light"
     },
     "output_type": "display_data"
    },
    {
     "name": "stdout",
     "output_type": "stream",
     "text": [
      "Accuracy:  0.7857142857142857\n"
     ]
    }
   ],
   "source": [
    "# Plotting a graph for n_neighbors \n",
    "from sklearn import metrics\n",
    "from sklearn.neighbors import KNeighborsClassifier\n",
    "\n",
    "X_axis = list(range(1, 31))\n",
    "acc = pd.Series()\n",
    "x = range(1,31)\n",
    "\n",
    "for i in list(range(1, 31)):\n",
    "    knn_model = KNeighborsClassifier(n_neighbors = i) \n",
    "    knn_model.fit(X_train, Y_train)\n",
    "    prediction = knn_model.predict(X_test)\n",
    "    acc = acc.append(pd.Series(metrics.accuracy_score(prediction, Y_test)))\n",
    "plt.plot(X_axis, acc)\n",
    "plt.xticks(x)\n",
    "plt.title(\"Finding best value for n_estimators\")\n",
    "plt.xlabel(\"n_estimators\")\n",
    "plt.ylabel(\"Accuracy\")\n",
    "plt.grid()\n",
    "plt.show()\n",
    "print('Accuracy: ',acc.values.max())"
   ]
  },
  {
   "cell_type": "markdown",
   "metadata": {},
   "source": [
    "# Model K-NN"
   ]
  },
  {
   "cell_type": "code",
   "execution_count": 47,
   "metadata": {},
   "outputs": [
    {
     "data": {
      "text/plain": [
       "KNeighborsClassifier(n_neighbors=24)"
      ]
     },
     "execution_count": 47,
     "metadata": {},
     "output_type": "execute_result"
    }
   ],
   "source": [
    "# K nearest neighbors Algorithm\n",
    "from sklearn.neighbors import KNeighborsClassifier\n",
    "knn = KNeighborsClassifier(n_neighbors = 24, metric = 'minkowski', p = 2)\n",
    "knn.fit(X_train, Y_train)"
   ]
  },
  {
   "cell_type": "markdown",
   "metadata": {},
   "source": [
    "# Model Naive Bayes "
   ]
  },
  {
   "cell_type": "code",
   "execution_count": 48,
   "metadata": {},
   "outputs": [
    {
     "data": {
      "text/plain": [
       "GaussianNB()"
      ]
     },
     "execution_count": 48,
     "metadata": {},
     "output_type": "execute_result"
    }
   ],
   "source": [
    "# Naive Bayes Algorithm\n",
    "from sklearn.naive_bayes import GaussianNB\n",
    "nb = GaussianNB()\n",
    "nb.fit(X_train, Y_train)"
   ]
  },
  {
   "cell_type": "markdown",
   "metadata": {},
   "source": [
    "# Model Support Vector Classifier"
   ]
  },
  {
   "cell_type": "code",
   "execution_count": 49,
   "metadata": {},
   "outputs": [
    {
     "data": {
      "text/plain": [
       "SVC(kernel='linear', random_state=42)"
      ]
     },
     "execution_count": 49,
     "metadata": {},
     "output_type": "execute_result"
    }
   ],
   "source": [
    "# Support Vector Classifier Algorithm\n",
    "from sklearn.svm import SVC\n",
    "svc = SVC(kernel = 'linear', random_state = 42)\n",
    "svc.fit(X_train, Y_train)"
   ]
  },
  {
   "cell_type": "code",
   "execution_count": 52,
   "metadata": {},
   "outputs": [],
   "source": [
    "# Making predictions on test dataset\n",
    "Y_pred_logreg = logreg.predict(X_test)\n",
    "Y_pred_knn = knn.predict(X_test)\n",
    "Y_pred_svc = svc.predict(X_test)\n",
    "Y_pred_nb = nb.predict(X_test)"
   ]
  },
  {
   "cell_type": "markdown",
   "metadata": {},
   "source": [
    "# Evaluasi Model"
   ]
  },
  {
   "cell_type": "code",
   "execution_count": 53,
   "metadata": {},
   "outputs": [],
   "source": [
    "# Evaluating using accuracy_score metric\n",
    "from sklearn.metrics import accuracy_score\n",
    "accuracy_logreg = accuracy_score(Y_test, Y_pred_logreg)\n",
    "accuracy_knn = accuracy_score(Y_test, Y_pred_knn)\n",
    "accuracy_svc = accuracy_score(Y_test, Y_pred_svc)\n",
    "accuracy_nb = accuracy_score(Y_test, Y_pred_nb)"
   ]
  },
  {
   "cell_type": "code",
   "execution_count": 56,
   "metadata": {},
   "outputs": [
    {
     "name": "stdout",
     "output_type": "stream",
     "text": [
      "Logistic Regression: 72.07792207792207\n",
      "K Nearest neighbors: 78.57142857142857\n",
      "Support Vector Classifier: 73.37662337662337\n",
      "Naive Bayes: 71.42857142857143\n"
     ]
    }
   ],
   "source": [
    "# Accuracy on test set\n",
    "print(\"Logistic Regression: \" + str(accuracy_logreg * 100))\n",
    "print(\"K Nearest neighbors: \" + str(accuracy_knn * 100))\n",
    "print(\"Support Vector Classifier: \" + str(accuracy_svc * 100))\n",
    "print(\"Naive Bayes: \" + str(accuracy_nb * 100))"
   ]
  },
  {
   "cell_type": "markdown",
   "metadata": {},
   "source": [
    "# Untuk melihat ke akurat nya \n",
    "## Menggunakan Confusion Matrix"
   ]
  },
  {
   "cell_type": "code",
   "execution_count": 57,
   "metadata": {},
   "outputs": [
    {
     "data": {
      "text/plain": [
       "array([[87, 13],\n",
       "       [20, 34]], dtype=int64)"
      ]
     },
     "execution_count": 57,
     "metadata": {},
     "output_type": "execute_result"
    }
   ],
   "source": [
    "# Confusion matrix\n",
    "from sklearn.metrics import confusion_matrix\n",
    "conf = confusion_matrix(Y_test, Y_pred_knn)\n",
    "conf"
   ]
  },
  {
   "cell_type": "code",
   "execution_count": 59,
   "metadata": {},
   "outputs": [
    {
     "data": {
      "text/plain": [
       "<AxesSubplot:>"
      ]
     },
     "execution_count": 59,
     "metadata": {},
     "output_type": "execute_result"
    },
    {
     "data": {
      "image/png": "[encoded data removed]",
      "text/plain": [
       "<Figure size 432x288 with 2 Axes>"
      ]
     },
     "metadata": {
      "needs_background": "light"
     },
     "output_type": "display_data"
    }
   ],
   "source": [
    "# Heatmap of Confusion matrix\n",
    "sns.heatmap(pd.DataFrame(conf), annot=True)"
   ]
  },
  {
   "cell_type": "code",
   "execution_count": 60,
   "metadata": {},
   "outputs": [
    {
     "name": "stdout",
     "output_type": "stream",
     "text": [
      "              precision    recall  f1-score   support\n",
      "\n",
      "         0.0       0.81      0.87      0.84       100\n",
      "         1.0       0.72      0.63      0.67        54\n",
      "\n",
      "    accuracy                           0.79       154\n",
      "   macro avg       0.77      0.75      0.76       154\n",
      "weighted avg       0.78      0.79      0.78       154\n",
      "\n"
     ]
    }
   ],
   "source": [
    "# Hasil Klassifikasi\n",
    "from sklearn.metrics import classification_report\n",
    "print(classification_report(Y_test, Y_pred_knn))"
   ]
  },
  {
   "cell_type": "code",
   "execution_count": null,
   "metadata": {},
   "outputs": [],
   "source": []
  }
 ],
 "metadata": {
  "kernelspec": {
   "display_name": "Python 3",
   "language": "python",
   "name": "python3"
  },
  "language_info": {
   "codemirror_mode": {
    "name": "ipython",
    "version": 3
   },
   "file_extension": ".py",
   "mimetype": "text/x-python",
   "name": "python",
   "nbconvert_exporter": "python",
   "pygments_lexer": "ipython3",
   "version": "3.8.8"
  }
 },
 "nbformat": 4,
 "nbformat_minor": 4
}
